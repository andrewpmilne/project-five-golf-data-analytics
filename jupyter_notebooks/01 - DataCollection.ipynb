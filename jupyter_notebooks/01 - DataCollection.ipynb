{
  "cells": [
    {
      "cell_type": "markdown",
      "metadata": {
        "id": "0aStgWSO0E0E"
      },
      "source": [
        "# **Data Collection**"
      ]
    },
    {
      "cell_type": "markdown",
      "metadata": {
        "id": "1eLEkw5O0ECa"
      },
      "source": [
        "## Objectives\n",
        "\n",
        "* Write here your notebook objective, for example, \"Fetch data from Kaggle and save as raw data\", or \"engineer features for modelling\"\n",
        "\n",
        "## Inputs\n",
        "\n",
        "* Write here which data or information you need to run the notebook \n",
        "\n",
        "## Outputs\n",
        "\n",
        "* Write here which files, code or artefacts you generate by the end of the notebook \n",
        "\n",
        "## Additional Comments\n",
        "\n",
        "* In case you have any additional comments that don't fit in the previous bullets, please state them here. \n"
      ]
    },
    {
      "cell_type": "markdown",
      "metadata": {
        "id": "9uWZXH9LwoQg"
      },
      "source": [
        "---"
      ]
    },
    {
      "cell_type": "markdown",
      "metadata": {
        "id": "cqP-UeN-z3i2"
      },
      "source": [
        "# Change working directory"
      ]
    },
    {
      "cell_type": "markdown",
      "metadata": {},
      "source": [
        "* We are assuming you will store the notebooks in a subfolder, therefore when running the notebook in the editor, you will need to change the working directory"
      ]
    },
    {
      "cell_type": "markdown",
      "metadata": {
        "id": "aOGIGS-uz3i2"
      },
      "source": [
        "We need to change the working directory from its current folder to its parent folder\n",
        "* We access the current directory with os.getcwd()"
      ]
    },
    {
      "cell_type": "code",
      "execution_count": 2,
      "metadata": {
        "id": "wZfF_j-Bz3i4",
        "outputId": "66943449-1436-4c3d-85c7-b85f9f78349b"
      },
      "outputs": [
        {
          "data": {
            "text/plain": [
              "'c:\\\\project-five-golf-data-analytics\\\\jupyter_notebooks'"
            ]
          },
          "execution_count": 2,
          "metadata": {},
          "output_type": "execute_result"
        }
      ],
      "source": [
        "import os\n",
        "current_dir = os.getcwd()\n",
        "current_dir"
      ]
    },
    {
      "cell_type": "markdown",
      "metadata": {
        "id": "9MWW8E7lz3i7"
      },
      "source": [
        "We want to make the parent of the current directory the new current directory\n",
        "* os.path.dirname() gets the parent directory\n",
        "* os.chir() defines the new current directory"
      ]
    },
    {
      "cell_type": "code",
      "execution_count": 3,
      "metadata": {
        "id": "TwHsQRWjz3i9",
        "outputId": "86849db3-cd2f-4cc5-ebb8-2d0caafa1a2c"
      },
      "outputs": [
        {
          "name": "stdout",
          "output_type": "stream",
          "text": [
            "You set a new current directory\n"
          ]
        }
      ],
      "source": [
        "os.chdir(os.path.dirname(current_dir))\n",
        "print(\"You set a new current directory\")"
      ]
    },
    {
      "cell_type": "markdown",
      "metadata": {
        "id": "M_xPk_Ijz3i-"
      },
      "source": [
        "Confirm the new current directory"
      ]
    },
    {
      "cell_type": "code",
      "execution_count": 4,
      "metadata": {
        "id": "vz3S-_kjz3jA",
        "outputId": "00b79ae4-75d0-4a96-d193-ac9ef9847ea2"
      },
      "outputs": [
        {
          "data": {
            "text/plain": [
              "'c:\\\\project-five-golf-data-analytics'"
            ]
          },
          "execution_count": 4,
          "metadata": {},
          "output_type": "execute_result"
        }
      ],
      "source": [
        "current_dir = os.getcwd()\n",
        "current_dir"
      ]
    },
    {
      "cell_type": "markdown",
      "metadata": {
        "id": "-mavJ8DibrcQ"
      },
      "source": [
        "# Fetch data from Kaggle"
      ]
    },
    {
      "cell_type": "markdown",
      "metadata": {},
      "source": [
        "Ensure kaggle.json file is recognised."
      ]
    },
    {
      "cell_type": "code",
      "execution_count": 5,
      "metadata": {},
      "outputs": [],
      "source": [
        "os.environ[\"KAGGLE_CONFIG_DIR\"] = os.getcwd()"
      ]
    },
    {
      "cell_type": "markdown",
      "metadata": {},
      "source": [
        "Define the dataset and download it."
      ]
    },
    {
      "cell_type": "code",
      "execution_count": 6,
      "metadata": {},
      "outputs": [
        {
          "name": "stdout",
          "output_type": "stream",
          "text": [
            "Dataset URL: https://www.kaggle.com/datasets/robikscube/pga-tour-golf-data-20152022\n",
            "License(s): CC0-1.0\n"
          ]
        }
      ],
      "source": [
        "KaggleDatasetPath = \"robikscube/pga-tour-golf-data-20152022\"\n",
        "DestinationFolder = \"inputs/datasets/raw\"\n",
        "!kaggle datasets download -d {KaggleDatasetPath} -p {DestinationFolder} -q"
      ]
    },
    {
      "cell_type": "markdown",
      "metadata": {},
      "source": [
        "Unzip and delete kaggle.json file"
      ]
    },
    {
      "cell_type": "code",
      "execution_count": 7,
      "metadata": {},
      "outputs": [
        {
          "name": "stdout",
          "output_type": "stream",
          "text": [
            "All zip files extracted and cleaned up. kaggle.json deleted.\n"
          ]
        }
      ],
      "source": [
        "import zipfile\n",
        "import glob\n",
        "\n",
        "for zip_path in glob.glob(os.path.join(DestinationFolder, \"*.zip\")):\n",
        "    with zipfile.ZipFile(zip_path, \"r\") as zip_ref:\n",
        "        zip_ref.extractall(DestinationFolder)\n",
        "    os.remove(zip_path)\n",
        "\n",
        "kaggle_json_path = \"kaggle.json\"\n",
        "if os.path.exists(kaggle_json_path):\n",
        "    os.remove(kaggle_json_path)\n",
        "\n",
        "print(f\"All zip files extracted and cleaned up. kaggle.json deleted.\")\n",
        "\n"
      ]
    },
    {
      "cell_type": "markdown",
      "metadata": {
        "id": "ZY3l0-AxO93d"
      },
      "source": [
        "---"
      ]
    },
    {
      "cell_type": "markdown",
      "metadata": {
        "id": "uFQo3ycuO-v6"
      },
      "source": [
        "# Load and Inspect Kaggle Data"
      ]
    },
    {
      "cell_type": "markdown",
      "metadata": {},
      "source": [
        "Get a data summary."
      ]
    },
    {
      "cell_type": "code",
      "execution_count": 8,
      "metadata": {},
      "outputs": [
        {
          "name": "stdout",
          "output_type": "stream",
          "text": [
            "Loaded dataset: ASA All PGA Raw Data - Tourn Level.csv\n"
          ]
        },
        {
          "data": {
            "text/html": [
              "<div>\n",
              "<style scoped>\n",
              "    .dataframe tbody tr th:only-of-type {\n",
              "        vertical-align: middle;\n",
              "    }\n",
              "\n",
              "    .dataframe tbody tr th {\n",
              "        vertical-align: top;\n",
              "    }\n",
              "\n",
              "    .dataframe thead th {\n",
              "        text-align: right;\n",
              "    }\n",
              "</style>\n",
              "<table border=\"1\" class=\"dataframe\">\n",
              "  <thead>\n",
              "    <tr style=\"text-align: right;\">\n",
              "      <th></th>\n",
              "      <th>Player_initial_last</th>\n",
              "      <th>tournament id</th>\n",
              "      <th>player id</th>\n",
              "      <th>hole_par</th>\n",
              "      <th>strokes</th>\n",
              "      <th>hole_DKP</th>\n",
              "      <th>hole_FDP</th>\n",
              "      <th>hole_SDP</th>\n",
              "      <th>streak_DKP</th>\n",
              "      <th>streak_FDP</th>\n",
              "      <th>...</th>\n",
              "      <th>purse</th>\n",
              "      <th>season</th>\n",
              "      <th>no_cut</th>\n",
              "      <th>Finish</th>\n",
              "      <th>sg_putt</th>\n",
              "      <th>sg_arg</th>\n",
              "      <th>sg_app</th>\n",
              "      <th>sg_ott</th>\n",
              "      <th>sg_t2g</th>\n",
              "      <th>sg_total</th>\n",
              "    </tr>\n",
              "  </thead>\n",
              "  <tbody>\n",
              "    <tr>\n",
              "      <th>0</th>\n",
              "      <td>A. Ancer</td>\n",
              "      <td>401353224</td>\n",
              "      <td>9261</td>\n",
              "      <td>288</td>\n",
              "      <td>289</td>\n",
              "      <td>60.0</td>\n",
              "      <td>51.1</td>\n",
              "      <td>56</td>\n",
              "      <td>3</td>\n",
              "      <td>7.6</td>\n",
              "      <td>...</td>\n",
              "      <td>12.0</td>\n",
              "      <td>2022</td>\n",
              "      <td>0</td>\n",
              "      <td>T32</td>\n",
              "      <td>0.20</td>\n",
              "      <td>-0.13</td>\n",
              "      <td>-0.08</td>\n",
              "      <td>0.86</td>\n",
              "      <td>0.65</td>\n",
              "      <td>0.85</td>\n",
              "    </tr>\n",
              "    <tr>\n",
              "      <th>1</th>\n",
              "      <td>A. Hadwin</td>\n",
              "      <td>401353224</td>\n",
              "      <td>5548</td>\n",
              "      <td>288</td>\n",
              "      <td>286</td>\n",
              "      <td>72.5</td>\n",
              "      <td>61.5</td>\n",
              "      <td>61</td>\n",
              "      <td>8</td>\n",
              "      <td>13.0</td>\n",
              "      <td>...</td>\n",
              "      <td>12.0</td>\n",
              "      <td>2022</td>\n",
              "      <td>0</td>\n",
              "      <td>T18</td>\n",
              "      <td>0.36</td>\n",
              "      <td>0.75</td>\n",
              "      <td>0.31</td>\n",
              "      <td>0.18</td>\n",
              "      <td>1.24</td>\n",
              "      <td>1.60</td>\n",
              "    </tr>\n",
              "    <tr>\n",
              "      <th>2</th>\n",
              "      <td>A. Lahiri</td>\n",
              "      <td>401353224</td>\n",
              "      <td>4989</td>\n",
              "      <td>144</td>\n",
              "      <td>147</td>\n",
              "      <td>21.5</td>\n",
              "      <td>17.4</td>\n",
              "      <td>27</td>\n",
              "      <td>0</td>\n",
              "      <td>0.0</td>\n",
              "      <td>...</td>\n",
              "      <td>12.0</td>\n",
              "      <td>2022</td>\n",
              "      <td>0</td>\n",
              "      <td>CUT</td>\n",
              "      <td>-0.56</td>\n",
              "      <td>0.74</td>\n",
              "      <td>-1.09</td>\n",
              "      <td>0.37</td>\n",
              "      <td>0.02</td>\n",
              "      <td>-0.54</td>\n",
              "    </tr>\n",
              "    <tr>\n",
              "      <th>3</th>\n",
              "      <td>A. Long</td>\n",
              "      <td>401353224</td>\n",
              "      <td>6015</td>\n",
              "      <td>144</td>\n",
              "      <td>151</td>\n",
              "      <td>20.5</td>\n",
              "      <td>13.6</td>\n",
              "      <td>17</td>\n",
              "      <td>0</td>\n",
              "      <td>0.4</td>\n",
              "      <td>...</td>\n",
              "      <td>12.0</td>\n",
              "      <td>2022</td>\n",
              "      <td>0</td>\n",
              "      <td>CUT</td>\n",
              "      <td>-1.46</td>\n",
              "      <td>-1.86</td>\n",
              "      <td>-0.02</td>\n",
              "      <td>0.80</td>\n",
              "      <td>-1.08</td>\n",
              "      <td>-2.54</td>\n",
              "    </tr>\n",
              "    <tr>\n",
              "      <th>4</th>\n",
              "      <td>A. Noren</td>\n",
              "      <td>401353224</td>\n",
              "      <td>3832</td>\n",
              "      <td>144</td>\n",
              "      <td>148</td>\n",
              "      <td>23.5</td>\n",
              "      <td>18.1</td>\n",
              "      <td>23</td>\n",
              "      <td>0</td>\n",
              "      <td>1.2</td>\n",
              "      <td>...</td>\n",
              "      <td>12.0</td>\n",
              "      <td>2022</td>\n",
              "      <td>0</td>\n",
              "      <td>CUT</td>\n",
              "      <td>0.53</td>\n",
              "      <td>-0.36</td>\n",
              "      <td>-1.39</td>\n",
              "      <td>0.19</td>\n",
              "      <td>-1.56</td>\n",
              "      <td>-1.04</td>\n",
              "    </tr>\n",
              "  </tbody>\n",
              "</table>\n",
              "<p>5 rows × 37 columns</p>\n",
              "</div>"
            ],
            "text/plain": [
              "  Player_initial_last  tournament id  player id  hole_par  strokes  hole_DKP  \\\n",
              "0            A. Ancer      401353224       9261       288      289      60.0   \n",
              "1           A. Hadwin      401353224       5548       288      286      72.5   \n",
              "2           A. Lahiri      401353224       4989       144      147      21.5   \n",
              "3             A. Long      401353224       6015       144      151      20.5   \n",
              "4            A. Noren      401353224       3832       144      148      23.5   \n",
              "\n",
              "   hole_FDP  hole_SDP  streak_DKP  streak_FDP  ...  purse  season  no_cut  \\\n",
              "0      51.1        56           3         7.6  ...   12.0    2022       0   \n",
              "1      61.5        61           8        13.0  ...   12.0    2022       0   \n",
              "2      17.4        27           0         0.0  ...   12.0    2022       0   \n",
              "3      13.6        17           0         0.4  ...   12.0    2022       0   \n",
              "4      18.1        23           0         1.2  ...   12.0    2022       0   \n",
              "\n",
              "   Finish  sg_putt  sg_arg  sg_app  sg_ott  sg_t2g  sg_total  \n",
              "0     T32     0.20   -0.13   -0.08    0.86    0.65      0.85  \n",
              "1     T18     0.36    0.75    0.31    0.18    1.24      1.60  \n",
              "2     CUT    -0.56    0.74   -1.09    0.37    0.02     -0.54  \n",
              "3     CUT    -1.46   -1.86   -0.02    0.80   -1.08     -2.54  \n",
              "4     CUT     0.53   -0.36   -1.39    0.19   -1.56     -1.04  \n",
              "\n",
              "[5 rows x 37 columns]"
            ]
          },
          "execution_count": 8,
          "metadata": {},
          "output_type": "execute_result"
        }
      ],
      "source": [
        "import pandas as pd\n",
        "\n",
        "data_folder = \"inputs/datasets/raw\"\n",
        "csv_files = [f for f in os.listdir(data_folder) if f.endswith('.csv')]\n",
        "\n",
        "if csv_files:\n",
        "    csv_path = os.path.join(data_folder, csv_files[0])\n",
        "    df = pd.read_csv(csv_path)\n",
        "    print(f\"Loaded dataset: {csv_files[0]}\")\n",
        "else:\n",
        "    raise FileNotFoundError(\"No CSV file found in the data folder.\")\n",
        "\n",
        "df.head()\n"
      ]
    },
    {
      "cell_type": "code",
      "execution_count": 10,
      "metadata": {},
      "outputs": [
        {
          "data": {
            "text/plain": [
              "['Player_initial_last',\n",
              " 'tournament id',\n",
              " 'player id',\n",
              " 'hole_par',\n",
              " 'strokes',\n",
              " 'hole_DKP',\n",
              " 'hole_FDP',\n",
              " 'hole_SDP',\n",
              " 'streak_DKP',\n",
              " 'streak_FDP',\n",
              " 'streak_SDP',\n",
              " 'n_rounds',\n",
              " 'made_cut',\n",
              " 'pos',\n",
              " 'finish_DKP',\n",
              " 'finish_FDP',\n",
              " 'finish_SDP',\n",
              " 'total_DKP',\n",
              " 'total_FDP',\n",
              " 'total_SDP',\n",
              " 'player',\n",
              " 'Unnamed: 2',\n",
              " 'Unnamed: 3',\n",
              " 'Unnamed: 4',\n",
              " 'tournament name',\n",
              " 'course',\n",
              " 'date',\n",
              " 'purse',\n",
              " 'season',\n",
              " 'no_cut',\n",
              " 'Finish',\n",
              " 'sg_putt',\n",
              " 'sg_arg',\n",
              " 'sg_app',\n",
              " 'sg_ott',\n",
              " 'sg_t2g',\n",
              " 'sg_total']"
            ]
          },
          "execution_count": 10,
          "metadata": {},
          "output_type": "execute_result"
        }
      ],
      "source": [
        "df.columns.tolist()\n"
      ]
    },
    {
      "cell_type": "markdown",
      "metadata": {},
      "source": [
        "Check for missing data."
      ]
    },
    {
      "cell_type": "code",
      "execution_count": 11,
      "metadata": {},
      "outputs": [
        {
          "name": "stdout",
          "output_type": "stream",
          "text": [
            "Player_initial_last        0\n",
            "tournament id              0\n",
            "player id                  0\n",
            "hole_par                   0\n",
            "strokes                    0\n",
            "hole_DKP                   0\n",
            "hole_FDP                   0\n",
            "hole_SDP                   0\n",
            "streak_DKP                 0\n",
            "streak_FDP                 0\n",
            "streak_SDP                 0\n",
            "n_rounds                   0\n",
            "made_cut                   0\n",
            "pos                    15547\n",
            "finish_DKP                 0\n",
            "finish_FDP                 0\n",
            "finish_SDP                 0\n",
            "total_DKP                  0\n",
            "total_FDP                  0\n",
            "total_SDP                  0\n",
            "player                     0\n",
            "Unnamed: 2             36864\n",
            "Unnamed: 3             36864\n",
            "Unnamed: 4             36864\n",
            "tournament name            0\n",
            "course                     0\n",
            "date                       0\n",
            "purse                      0\n",
            "season                     0\n",
            "no_cut                     0\n",
            "Finish                  7683\n",
            "sg_putt                 7684\n",
            "sg_arg                  7684\n",
            "sg_app                  7684\n",
            "sg_ott                  7684\n",
            "sg_t2g                  7684\n",
            "sg_total                7683\n",
            "dtype: int64\n"
          ]
        }
      ],
      "source": [
        "missing_values = df.isnull().sum()\n",
        "print(missing_values)"
      ]
    },
    {
      "cell_type": "markdown",
      "metadata": {},
      "source": [
        "Check the missing values in 'pos' field."
      ]
    },
    {
      "cell_type": "code",
      "execution_count": 14,
      "metadata": {},
      "outputs": [
        {
          "data": {
            "text/html": [
              "<div>\n",
              "<style scoped>\n",
              "    .dataframe tbody tr th:only-of-type {\n",
              "        vertical-align: middle;\n",
              "    }\n",
              "\n",
              "    .dataframe tbody tr th {\n",
              "        vertical-align: top;\n",
              "    }\n",
              "\n",
              "    .dataframe thead th {\n",
              "        text-align: right;\n",
              "    }\n",
              "</style>\n",
              "<table border=\"1\" class=\"dataframe\">\n",
              "  <thead>\n",
              "    <tr style=\"text-align: right;\">\n",
              "      <th></th>\n",
              "      <th>Player_initial_last</th>\n",
              "      <th>tournament id</th>\n",
              "      <th>player id</th>\n",
              "      <th>hole_par</th>\n",
              "      <th>strokes</th>\n",
              "      <th>hole_DKP</th>\n",
              "      <th>hole_FDP</th>\n",
              "      <th>hole_SDP</th>\n",
              "      <th>streak_DKP</th>\n",
              "      <th>streak_FDP</th>\n",
              "      <th>...</th>\n",
              "      <th>purse</th>\n",
              "      <th>season</th>\n",
              "      <th>no_cut</th>\n",
              "      <th>Finish</th>\n",
              "      <th>sg_putt</th>\n",
              "      <th>sg_arg</th>\n",
              "      <th>sg_app</th>\n",
              "      <th>sg_ott</th>\n",
              "      <th>sg_t2g</th>\n",
              "      <th>sg_total</th>\n",
              "    </tr>\n",
              "  </thead>\n",
              "  <tbody>\n",
              "    <tr>\n",
              "      <th>2</th>\n",
              "      <td>A. Lahiri</td>\n",
              "      <td>401353224</td>\n",
              "      <td>4989</td>\n",
              "      <td>144</td>\n",
              "      <td>147</td>\n",
              "      <td>21.5</td>\n",
              "      <td>17.4</td>\n",
              "      <td>27</td>\n",
              "      <td>0</td>\n",
              "      <td>0.0</td>\n",
              "      <td>...</td>\n",
              "      <td>12.0</td>\n",
              "      <td>2022</td>\n",
              "      <td>0</td>\n",
              "      <td>CUT</td>\n",
              "      <td>-0.56</td>\n",
              "      <td>0.74</td>\n",
              "      <td>-1.09</td>\n",
              "      <td>0.37</td>\n",
              "      <td>0.02</td>\n",
              "      <td>-0.54</td>\n",
              "    </tr>\n",
              "    <tr>\n",
              "      <th>3</th>\n",
              "      <td>A. Long</td>\n",
              "      <td>401353224</td>\n",
              "      <td>6015</td>\n",
              "      <td>144</td>\n",
              "      <td>151</td>\n",
              "      <td>20.5</td>\n",
              "      <td>13.6</td>\n",
              "      <td>17</td>\n",
              "      <td>0</td>\n",
              "      <td>0.4</td>\n",
              "      <td>...</td>\n",
              "      <td>12.0</td>\n",
              "      <td>2022</td>\n",
              "      <td>0</td>\n",
              "      <td>CUT</td>\n",
              "      <td>-1.46</td>\n",
              "      <td>-1.86</td>\n",
              "      <td>-0.02</td>\n",
              "      <td>0.80</td>\n",
              "      <td>-1.08</td>\n",
              "      <td>-2.54</td>\n",
              "    </tr>\n",
              "    <tr>\n",
              "      <th>4</th>\n",
              "      <td>A. Noren</td>\n",
              "      <td>401353224</td>\n",
              "      <td>3832</td>\n",
              "      <td>144</td>\n",
              "      <td>148</td>\n",
              "      <td>23.5</td>\n",
              "      <td>18.1</td>\n",
              "      <td>23</td>\n",
              "      <td>0</td>\n",
              "      <td>1.2</td>\n",
              "      <td>...</td>\n",
              "      <td>12.0</td>\n",
              "      <td>2022</td>\n",
              "      <td>0</td>\n",
              "      <td>CUT</td>\n",
              "      <td>0.53</td>\n",
              "      <td>-0.36</td>\n",
              "      <td>-1.39</td>\n",
              "      <td>0.19</td>\n",
              "      <td>-1.56</td>\n",
              "      <td>-1.04</td>\n",
              "    </tr>\n",
              "    <tr>\n",
              "      <th>5</th>\n",
              "      <td>A. Putnam</td>\n",
              "      <td>401353224</td>\n",
              "      <td>5502</td>\n",
              "      <td>144</td>\n",
              "      <td>151</td>\n",
              "      <td>19.5</td>\n",
              "      <td>12.0</td>\n",
              "      <td>19</td>\n",
              "      <td>0</td>\n",
              "      <td>6.0</td>\n",
              "      <td>...</td>\n",
              "      <td>12.0</td>\n",
              "      <td>2022</td>\n",
              "      <td>0</td>\n",
              "      <td>CUT</td>\n",
              "      <td>-0.97</td>\n",
              "      <td>0.14</td>\n",
              "      <td>-2.02</td>\n",
              "      <td>0.31</td>\n",
              "      <td>-1.56</td>\n",
              "      <td>-2.54</td>\n",
              "    </tr>\n",
              "    <tr>\n",
              "      <th>9</th>\n",
              "      <td>A. Smalley</td>\n",
              "      <td>401353224</td>\n",
              "      <td>9484</td>\n",
              "      <td>144</td>\n",
              "      <td>151</td>\n",
              "      <td>18.0</td>\n",
              "      <td>10.9</td>\n",
              "      <td>20</td>\n",
              "      <td>0</td>\n",
              "      <td>0.6</td>\n",
              "      <td>...</td>\n",
              "      <td>12.0</td>\n",
              "      <td>2022</td>\n",
              "      <td>0</td>\n",
              "      <td>CUT</td>\n",
              "      <td>-1.89</td>\n",
              "      <td>-0.71</td>\n",
              "      <td>0.71</td>\n",
              "      <td>-0.65</td>\n",
              "      <td>-0.65</td>\n",
              "      <td>-2.54</td>\n",
              "    </tr>\n",
              "  </tbody>\n",
              "</table>\n",
              "<p>5 rows × 37 columns</p>\n",
              "</div>"
            ],
            "text/plain": [
              "  Player_initial_last  tournament id  player id  hole_par  strokes  hole_DKP  \\\n",
              "2           A. Lahiri      401353224       4989       144      147      21.5   \n",
              "3             A. Long      401353224       6015       144      151      20.5   \n",
              "4            A. Noren      401353224       3832       144      148      23.5   \n",
              "5           A. Putnam      401353224       5502       144      151      19.5   \n",
              "9          A. Smalley      401353224       9484       144      151      18.0   \n",
              "\n",
              "   hole_FDP  hole_SDP  streak_DKP  streak_FDP  ...  purse  season  no_cut  \\\n",
              "2      17.4        27           0         0.0  ...   12.0    2022       0   \n",
              "3      13.6        17           0         0.4  ...   12.0    2022       0   \n",
              "4      18.1        23           0         1.2  ...   12.0    2022       0   \n",
              "5      12.0        19           0         6.0  ...   12.0    2022       0   \n",
              "9      10.9        20           0         0.6  ...   12.0    2022       0   \n",
              "\n",
              "   Finish  sg_putt  sg_arg  sg_app  sg_ott  sg_t2g  sg_total  \n",
              "2     CUT    -0.56    0.74   -1.09    0.37    0.02     -0.54  \n",
              "3     CUT    -1.46   -1.86   -0.02    0.80   -1.08     -2.54  \n",
              "4     CUT     0.53   -0.36   -1.39    0.19   -1.56     -1.04  \n",
              "5     CUT    -0.97    0.14   -2.02    0.31   -1.56     -2.54  \n",
              "9     CUT    -1.89   -0.71    0.71   -0.65   -0.65     -2.54  \n",
              "\n",
              "[5 rows x 37 columns]"
            ]
          },
          "execution_count": 14,
          "metadata": {},
          "output_type": "execute_result"
        }
      ],
      "source": [
        "missing_pos = df[df['pos'].isnull()]\n",
        "missing_pos.head()"
      ]
    },
    {
      "cell_type": "markdown",
      "metadata": {},
      "source": [
        "Check that the no values in 'pos' field are due to players missing the cut (in golf missing the cut = a very bad finish so would still be relevant data for this study)."
      ]
    },
    {
      "cell_type": "code",
      "execution_count": 16,
      "metadata": {},
      "outputs": [
        {
          "data": {
            "text/html": [
              "<div>\n",
              "<style scoped>\n",
              "    .dataframe tbody tr th:only-of-type {\n",
              "        vertical-align: middle;\n",
              "    }\n",
              "\n",
              "    .dataframe tbody tr th {\n",
              "        vertical-align: top;\n",
              "    }\n",
              "\n",
              "    .dataframe thead th {\n",
              "        text-align: right;\n",
              "    }\n",
              "</style>\n",
              "<table border=\"1\" class=\"dataframe\">\n",
              "  <thead>\n",
              "    <tr style=\"text-align: right;\">\n",
              "      <th></th>\n",
              "      <th>tournament id</th>\n",
              "      <th>pos</th>\n",
              "      <th>finish_DKP</th>\n",
              "    </tr>\n",
              "  </thead>\n",
              "  <tbody>\n",
              "  </tbody>\n",
              "</table>\n",
              "</div>"
            ],
            "text/plain": [
              "Empty DataFrame\n",
              "Columns: [tournament id, pos, finish_DKP]\n",
              "Index: []"
            ]
          },
          "execution_count": 16,
          "metadata": {},
          "output_type": "execute_result"
        }
      ],
      "source": [
        "cut_check = df[df['pos'].notnull() & (df['finish_DKP'] == 'cut')]\n",
        "cut_check[['tournament id', 'pos', 'finish_DKP']]"
      ]
    },
    {
      "cell_type": "markdown",
      "metadata": {},
      "source": [
        "No values above indicates that missing data in 'pos' field is a missed cut (low finish- significantly outside the top ten)."
      ]
    },
    {
      "cell_type": "markdown",
      "metadata": {},
      "source": [
        "---"
      ]
    },
    {
      "cell_type": "markdown",
      "metadata": {
        "id": "ltNetd085qHf"
      },
      "source": [
        "# Push files to Repo"
      ]
    },
    {
      "cell_type": "markdown",
      "metadata": {},
      "source": [
        "* In case you don't need to push files to Repo, you may replace this section with \"Conclusions and Next Steps\" and state your conclusions and next steps."
      ]
    },
    {
      "cell_type": "code",
      "execution_count": null,
      "metadata": {
        "id": "aKlnIozA4eQO",
        "outputId": "fd09bc1f-adb1-4511-f6ce-492a6af570c0"
      },
      "outputs": [],
      "source": [
        "import os\n",
        "try:\n",
        "  # create here your folder\n",
        "  # os.makedirs(name='')\n",
        "except Exception as e:\n",
        "  print(e)\n"
      ]
    }
  ],
  "metadata": {
    "accelerator": "GPU",
    "colab": {
      "name": "Data Practitioner Jupyter Notebook.ipynb",
      "provenance": [],
      "toc_visible": true
    },
    "kernelspec": {
      "display_name": "venv",
      "language": "python",
      "name": "python3"
    },
    "language_info": {
      "codemirror_mode": {
        "name": "ipython",
        "version": 3
      },
      "file_extension": ".py",
      "mimetype": "text/x-python",
      "name": "python",
      "nbconvert_exporter": "python",
      "pygments_lexer": "ipython3",
      "version": "3.13.2"
    },
    "orig_nbformat": 2
  },
  "nbformat": 4,
  "nbformat_minor": 2
}
