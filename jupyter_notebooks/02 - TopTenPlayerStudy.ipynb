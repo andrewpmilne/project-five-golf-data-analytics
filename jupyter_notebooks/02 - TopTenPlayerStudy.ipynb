{
 "cells": [
  {
   "cell_type": "markdown",
   "id": "dd738370",
   "metadata": {},
   "source": [
    "# **Top Ten Player Study**"
   ]
  },
  {
   "cell_type": "markdown",
   "id": "10af16d5",
   "metadata": {},
   "source": [
    "## Objectives\n",
    "\n",
    "* Write here your notebook objective, for example, \"Fetch data from Kaggle and save as raw data\", or \"engineer features for modelling\"\n",
    "\n",
    "## Inputs\n",
    "\n",
    "* Write here which data or information you need to run the notebook \n",
    "\n",
    "## Outputs\n",
    "\n",
    "* Write here which files, code or artefacts you generate by the end of the notebook \n",
    "\n",
    "## Additional Comments\n",
    "\n",
    "* In case you have any additional comments that don't fit in the previous bullets, please state them here. \n"
   ]
  },
  {
   "cell_type": "markdown",
   "id": "45114b96",
   "metadata": {},
   "source": [
    "---"
   ]
  },
  {
   "cell_type": "markdown",
   "id": "7ebb9a2d",
   "metadata": {},
   "source": [
    "# Change working directory"
   ]
  },
  {
   "cell_type": "markdown",
   "id": "d10cb307",
   "metadata": {},
   "source": [
    "We need to change the working directory from its current folder to its parent folder\n",
    "* We access the current directory with os.getcwd()"
   ]
  },
  {
   "cell_type": "code",
   "execution_count": 2,
   "id": "26ff58c9",
   "metadata": {},
   "outputs": [
    {
     "data": {
      "text/plain": [
       "'c:\\\\project-five-golf-data-analytics\\\\jupyter_notebooks'"
      ]
     },
     "execution_count": 2,
     "metadata": {},
     "output_type": "execute_result"
    }
   ],
   "source": [
    "import os\n",
    "current_dir = os.getcwd()\n",
    "current_dir"
   ]
  },
  {
   "cell_type": "markdown",
   "id": "d7a74d12",
   "metadata": {},
   "source": [
    "We want to make the parent of the current directory the new current directory\n",
    "* os.path.dirname() gets the parent directory\n",
    "* os.chir() defines the new current directory"
   ]
  },
  {
   "cell_type": "code",
   "execution_count": 3,
   "id": "ac0af2aa",
   "metadata": {},
   "outputs": [
    {
     "name": "stdout",
     "output_type": "stream",
     "text": [
      "You set a new current directory\n"
     ]
    }
   ],
   "source": [
    "os.chdir(os.path.dirname(current_dir))\n",
    "print(\"You set a new current directory\")"
   ]
  },
  {
   "cell_type": "markdown",
   "id": "ba64db7c",
   "metadata": {},
   "source": [
    "Confirm the new current directory"
   ]
  },
  {
   "cell_type": "code",
   "execution_count": 4,
   "id": "272ba5b6",
   "metadata": {},
   "outputs": [
    {
     "data": {
      "text/plain": [
       "'c:\\\\project-five-golf-data-analytics'"
      ]
     },
     "execution_count": 4,
     "metadata": {},
     "output_type": "execute_result"
    }
   ],
   "source": [
    "current_dir = os.getcwd()\n",
    "current_dir"
   ]
  },
  {
   "cell_type": "code",
   "execution_count": 6,
   "id": "e1507619",
   "metadata": {},
   "outputs": [],
   "source": [
    "import pandas as pd\n",
    "import numpy as np"
   ]
  },
  {
   "cell_type": "markdown",
   "id": "1825b2b7",
   "metadata": {},
   "source": [
    "First, gain an overview of the data (bearing in mind missing fields and some data errors have been studied in the Data Collection phase)."
   ]
  },
  {
   "cell_type": "code",
   "execution_count": 8,
   "id": "7e22ab98",
   "metadata": {},
   "outputs": [
    {
     "name": "stdout",
     "output_type": "stream",
     "text": [
      "Data loaded successfully!\n",
      "Shape: 36,864 rows × 37 columns\n",
      "\n"
     ]
    },
    {
     "data": {
      "text/html": [
       "<div>\n",
       "<style scoped>\n",
       "    .dataframe tbody tr th:only-of-type {\n",
       "        vertical-align: middle;\n",
       "    }\n",
       "\n",
       "    .dataframe tbody tr th {\n",
       "        vertical-align: top;\n",
       "    }\n",
       "\n",
       "    .dataframe thead th {\n",
       "        text-align: right;\n",
       "    }\n",
       "</style>\n",
       "<table border=\"1\" class=\"dataframe\">\n",
       "  <thead>\n",
       "    <tr style=\"text-align: right;\">\n",
       "      <th></th>\n",
       "      <th>Player_initial_last</th>\n",
       "      <th>tournament id</th>\n",
       "      <th>player id</th>\n",
       "      <th>hole_par</th>\n",
       "      <th>strokes</th>\n",
       "      <th>hole_DKP</th>\n",
       "      <th>hole_FDP</th>\n",
       "      <th>hole_SDP</th>\n",
       "      <th>streak_DKP</th>\n",
       "      <th>streak_FDP</th>\n",
       "      <th>...</th>\n",
       "      <th>purse</th>\n",
       "      <th>season</th>\n",
       "      <th>no_cut</th>\n",
       "      <th>Finish</th>\n",
       "      <th>sg_putt</th>\n",
       "      <th>sg_arg</th>\n",
       "      <th>sg_app</th>\n",
       "      <th>sg_ott</th>\n",
       "      <th>sg_t2g</th>\n",
       "      <th>sg_total</th>\n",
       "    </tr>\n",
       "  </thead>\n",
       "  <tbody>\n",
       "    <tr>\n",
       "      <th>0</th>\n",
       "      <td>A. Ancer</td>\n",
       "      <td>401353224</td>\n",
       "      <td>9261</td>\n",
       "      <td>288</td>\n",
       "      <td>289</td>\n",
       "      <td>60.0</td>\n",
       "      <td>51.1</td>\n",
       "      <td>56</td>\n",
       "      <td>3</td>\n",
       "      <td>7.6</td>\n",
       "      <td>...</td>\n",
       "      <td>12.0</td>\n",
       "      <td>2022</td>\n",
       "      <td>0</td>\n",
       "      <td>T32</td>\n",
       "      <td>0.20</td>\n",
       "      <td>-0.13</td>\n",
       "      <td>-0.08</td>\n",
       "      <td>0.86</td>\n",
       "      <td>0.65</td>\n",
       "      <td>0.85</td>\n",
       "    </tr>\n",
       "    <tr>\n",
       "      <th>1</th>\n",
       "      <td>A. Hadwin</td>\n",
       "      <td>401353224</td>\n",
       "      <td>5548</td>\n",
       "      <td>288</td>\n",
       "      <td>286</td>\n",
       "      <td>72.5</td>\n",
       "      <td>61.5</td>\n",
       "      <td>61</td>\n",
       "      <td>8</td>\n",
       "      <td>13.0</td>\n",
       "      <td>...</td>\n",
       "      <td>12.0</td>\n",
       "      <td>2022</td>\n",
       "      <td>0</td>\n",
       "      <td>T18</td>\n",
       "      <td>0.36</td>\n",
       "      <td>0.75</td>\n",
       "      <td>0.31</td>\n",
       "      <td>0.18</td>\n",
       "      <td>1.24</td>\n",
       "      <td>1.60</td>\n",
       "    </tr>\n",
       "    <tr>\n",
       "      <th>2</th>\n",
       "      <td>A. Lahiri</td>\n",
       "      <td>401353224</td>\n",
       "      <td>4989</td>\n",
       "      <td>144</td>\n",
       "      <td>147</td>\n",
       "      <td>21.5</td>\n",
       "      <td>17.4</td>\n",
       "      <td>27</td>\n",
       "      <td>0</td>\n",
       "      <td>0.0</td>\n",
       "      <td>...</td>\n",
       "      <td>12.0</td>\n",
       "      <td>2022</td>\n",
       "      <td>0</td>\n",
       "      <td>CUT</td>\n",
       "      <td>-0.56</td>\n",
       "      <td>0.74</td>\n",
       "      <td>-1.09</td>\n",
       "      <td>0.37</td>\n",
       "      <td>0.02</td>\n",
       "      <td>-0.54</td>\n",
       "    </tr>\n",
       "    <tr>\n",
       "      <th>3</th>\n",
       "      <td>A. Long</td>\n",
       "      <td>401353224</td>\n",
       "      <td>6015</td>\n",
       "      <td>144</td>\n",
       "      <td>151</td>\n",
       "      <td>20.5</td>\n",
       "      <td>13.6</td>\n",
       "      <td>17</td>\n",
       "      <td>0</td>\n",
       "      <td>0.4</td>\n",
       "      <td>...</td>\n",
       "      <td>12.0</td>\n",
       "      <td>2022</td>\n",
       "      <td>0</td>\n",
       "      <td>CUT</td>\n",
       "      <td>-1.46</td>\n",
       "      <td>-1.86</td>\n",
       "      <td>-0.02</td>\n",
       "      <td>0.80</td>\n",
       "      <td>-1.08</td>\n",
       "      <td>-2.54</td>\n",
       "    </tr>\n",
       "    <tr>\n",
       "      <th>4</th>\n",
       "      <td>A. Noren</td>\n",
       "      <td>401353224</td>\n",
       "      <td>3832</td>\n",
       "      <td>144</td>\n",
       "      <td>148</td>\n",
       "      <td>23.5</td>\n",
       "      <td>18.1</td>\n",
       "      <td>23</td>\n",
       "      <td>0</td>\n",
       "      <td>1.2</td>\n",
       "      <td>...</td>\n",
       "      <td>12.0</td>\n",
       "      <td>2022</td>\n",
       "      <td>0</td>\n",
       "      <td>CUT</td>\n",
       "      <td>0.53</td>\n",
       "      <td>-0.36</td>\n",
       "      <td>-1.39</td>\n",
       "      <td>0.19</td>\n",
       "      <td>-1.56</td>\n",
       "      <td>-1.04</td>\n",
       "    </tr>\n",
       "  </tbody>\n",
       "</table>\n",
       "<p>5 rows × 37 columns</p>\n",
       "</div>"
      ],
      "text/plain": [
       "  Player_initial_last  tournament id  player id  hole_par  strokes  hole_DKP  \\\n",
       "0            A. Ancer      401353224       9261       288      289      60.0   \n",
       "1           A. Hadwin      401353224       5548       288      286      72.5   \n",
       "2           A. Lahiri      401353224       4989       144      147      21.5   \n",
       "3             A. Long      401353224       6015       144      151      20.5   \n",
       "4            A. Noren      401353224       3832       144      148      23.5   \n",
       "\n",
       "   hole_FDP  hole_SDP  streak_DKP  streak_FDP  ...  purse  season  no_cut  \\\n",
       "0      51.1        56           3         7.6  ...   12.0    2022       0   \n",
       "1      61.5        61           8        13.0  ...   12.0    2022       0   \n",
       "2      17.4        27           0         0.0  ...   12.0    2022       0   \n",
       "3      13.6        17           0         0.4  ...   12.0    2022       0   \n",
       "4      18.1        23           0         1.2  ...   12.0    2022       0   \n",
       "\n",
       "   Finish  sg_putt  sg_arg  sg_app  sg_ott  sg_t2g  sg_total  \n",
       "0     T32     0.20   -0.13   -0.08    0.86    0.65      0.85  \n",
       "1     T18     0.36    0.75    0.31    0.18    1.24      1.60  \n",
       "2     CUT    -0.56    0.74   -1.09    0.37    0.02     -0.54  \n",
       "3     CUT    -1.46   -1.86   -0.02    0.80   -1.08     -2.54  \n",
       "4     CUT     0.53   -0.36   -1.39    0.19   -1.56     -1.04  \n",
       "\n",
       "[5 rows x 37 columns]"
      ]
     },
     "metadata": {},
     "output_type": "display_data"
    },
    {
     "name": "stdout",
     "output_type": "stream",
     "text": [
      "<class 'pandas.core.frame.DataFrame'>\n",
      "RangeIndex: 36864 entries, 0 to 36863\n",
      "Data columns (total 37 columns):\n",
      " #   Column               Non-Null Count  Dtype  \n",
      "---  ------               --------------  -----  \n",
      " 0   Player_initial_last  36864 non-null  object \n",
      " 1   tournament id        36864 non-null  int64  \n",
      " 2   player id            36864 non-null  int64  \n",
      " 3   hole_par             36864 non-null  int64  \n",
      " 4   strokes              36864 non-null  int64  \n",
      " 5   hole_DKP             36864 non-null  float64\n",
      " 6   hole_FDP             36864 non-null  float64\n",
      " 7   hole_SDP             36864 non-null  int64  \n",
      " 8   streak_DKP           36864 non-null  int64  \n",
      " 9   streak_FDP           36864 non-null  float64\n",
      " 10  streak_SDP           36864 non-null  int64  \n",
      " 11  n_rounds             36864 non-null  int64  \n",
      " 12  made_cut             36864 non-null  int64  \n",
      " 13  pos                  21317 non-null  float64\n",
      " 14  finish_DKP           36864 non-null  int64  \n",
      " 15  finish_FDP           36864 non-null  int64  \n",
      " 16  finish_SDP           36864 non-null  int64  \n",
      " 17  total_DKP            36864 non-null  float64\n",
      " 18  total_FDP            36864 non-null  float64\n",
      " 19  total_SDP            36864 non-null  int64  \n",
      " 20  player               36864 non-null  object \n",
      " 21  Unnamed: 2           0 non-null      float64\n",
      " 22  Unnamed: 3           0 non-null      float64\n",
      " 23  Unnamed: 4           0 non-null      float64\n",
      " 24  tournament name      36864 non-null  object \n",
      " 25  course               36864 non-null  object \n",
      " 26  date                 36864 non-null  object \n",
      " 27  purse                36864 non-null  float64\n",
      " 28  season               36864 non-null  int64  \n",
      " 29  no_cut               36864 non-null  int64  \n",
      " 30  Finish               29181 non-null  object \n",
      " 31  sg_putt              29180 non-null  float64\n",
      " 32  sg_arg               29180 non-null  float64\n",
      " 33  sg_app               29180 non-null  float64\n",
      " 34  sg_ott               29180 non-null  float64\n",
      " 35  sg_t2g               29180 non-null  float64\n",
      " 36  sg_total             29181 non-null  float64\n",
      "dtypes: float64(16), int64(15), object(6)\n",
      "memory usage: 10.4+ MB\n"
     ]
    }
   ],
   "source": [
    "file_path = \"inputs/datasets/raw/ASA All PGA Raw Data - Tourn Level.csv\"\n",
    "df = pd.read_csv(file_path)\n",
    "\n",
    "print(\"Data loaded successfully!\")\n",
    "print(f\"Shape: {df.shape[0]:,} rows × {df.shape[1]:,} columns\\n\")\n",
    "\n",
    "display(df.head())\n",
    "\n",
    "df.info()"
   ]
  },
  {
   "cell_type": "code",
   "execution_count": 12,
   "id": "3795c57c",
   "metadata": {},
   "outputs": [
    {
     "name": "stdout",
     "output_type": "stream",
     "text": [
      "\n",
      "Numerical features: 31\n",
      "['tournament id', 'player id', 'hole_par', 'strokes', 'hole_DKP', 'hole_FDP', 'hole_SDP', 'streak_DKP', 'streak_FDP', 'streak_SDP', 'n_rounds', 'made_cut', 'pos', 'finish_DKP', 'finish_FDP', 'finish_SDP', 'total_DKP', 'total_FDP', 'total_SDP', 'Unnamed: 2', 'Unnamed: 3', 'Unnamed: 4', 'purse', 'season', 'no_cut', 'sg_putt', 'sg_arg', 'sg_app', 'sg_ott', 'sg_t2g', 'sg_total']\n",
      "\n",
      "Categorical features: 6\n",
      "['Player_initial_last', 'player', 'tournament name', 'course', 'date', 'Finish']\n"
     ]
    }
   ],
   "source": [
    "num_features = df.select_dtypes(include=np.number).columns.tolist()\n",
    "cat_features = df.select_dtypes(exclude=np.number).columns.tolist()\n",
    "\n",
    "print(\"\\nNumerical features:\", len(num_features))\n",
    "print(num_features)\n",
    "print(\"\\nCategorical features:\", len(cat_features))\n",
    "print(cat_features)"
   ]
  },
  {
   "cell_type": "markdown",
   "id": "ee9d4afc",
   "metadata": {},
   "source": [
    "Check for duplicates."
   ]
  },
  {
   "cell_type": "code",
   "execution_count": 14,
   "id": "1c37b202",
   "metadata": {},
   "outputs": [
    {
     "name": "stdout",
     "output_type": "stream",
     "text": [
      "\n",
      "Number of duplicate rows: 0\n"
     ]
    }
   ],
   "source": [
    "duplicates = df.duplicated().sum()\n",
    "print(f\"\\nNumber of duplicate rows: {duplicates}\")"
   ]
  },
  {
   "cell_type": "markdown",
   "id": "25e294e9",
   "metadata": {},
   "source": [
    "Before further data exploration, it is necessary to create a data frame of data that combines the pos and finish features (see data collection notebook) to check that this data will be suitable for the client's business requirements.\n",
    "To do this, first we need to make 'Finish' entirely numeric data."
   ]
  },
  {
   "cell_type": "code",
   "execution_count": 23,
   "id": "8ac8e2db",
   "metadata": {},
   "outputs": [
    {
     "name": "stdout",
     "output_type": "stream",
     "text": [
      "    pos Finish finish_clean  finish_numeric\n",
      "0  32.0    T32           32            32.0\n",
      "1  18.0    T18           18            18.0\n",
      "2   NaN    CUT           CU             0.0\n",
      "3   NaN    CUT           CU             0.0\n",
      "4   NaN    CUT           CU             0.0\n",
      "5   NaN    CUT           CU             0.0\n",
      "6  26.0    T26           26            26.0\n",
      "7  26.0    T26           26            26.0\n",
      "8  67.0    T67           67            67.0\n",
      "9   NaN    CUT           CU             0.0\n"
     ]
    }
   ],
   "source": [
    "df_temp = df.copy()\n",
    "\n",
    "df_temp['finish_clean'] = df_temp['Finish'].astype(str).str.replace('T', '', regex=False)\n",
    "\n",
    "df_temp['finish_numeric'] = pd.to_numeric(df_temp['finish_clean'], errors='coerce')\n",
    "\n",
    "df_temp['finish_numeric'] = df_temp['finish_numeric'].fillna(0)\n",
    "\n",
    "print(df_temp[['pos', 'Finish', 'finish_clean', 'finish_numeric']].head(10))\n",
    "\n"
   ]
  },
  {
   "cell_type": "markdown",
   "id": "34533376",
   "metadata": {},
   "source": [
    "Next, check for discrepencies between finish_numeric and pos."
   ]
  },
  {
   "cell_type": "code",
   "execution_count": 24,
   "id": "97b57d35",
   "metadata": {},
   "outputs": [
    {
     "name": "stdout",
     "output_type": "stream",
     "text": [
      "Number of rows where finish_numeric and pos differ: 20688\n",
      "    pos Finish  finish_numeric\n",
      "2   NaN    CUT             0.0\n",
      "3   NaN    CUT             0.0\n",
      "4   NaN    CUT             0.0\n",
      "5   NaN    CUT             0.0\n",
      "9   NaN    CUT             0.0\n",
      "12  NaN    NaN             0.0\n",
      "13  NaN    CUT             0.0\n",
      "15  NaN    CUT             0.0\n",
      "21  NaN    CUT             0.0\n",
      "24  NaN    CUT             0.0\n"
     ]
    }
   ],
   "source": [
    "df_temp['pos_differs'] = df_temp['finish_numeric'] != df_temp['pos']\n",
    "num_differences = df_temp['pos_differs'].sum()\n",
    "print(f\"Number of rows where finish_numeric and pos differ: {num_differences}\")\n",
    "print(df_temp[df_temp['pos_differs']][['pos', 'Finish', 'finish_numeric']].head(10))"
   ]
  },
  {
   "cell_type": "markdown",
   "id": "11fad5c9",
   "metadata": {},
   "source": [
    "Turn everything that is non numeric in 'pos' to a 0 (to indicate a bad finish in the tournament)."
   ]
  },
  {
   "cell_type": "code",
   "execution_count": 25,
   "id": "488fadaa",
   "metadata": {},
   "outputs": [
    {
     "name": "stdout",
     "output_type": "stream",
     "text": [
      "[0.0, 0.0, 8.0, 0.0, 63.0, 32.0, 3.0, 12.0, 15.0, 32.0, 11.0, 29.0, 0.0, 0.0, 0.0, 69.0, 29.0, 54.0, 0.0, 36.0]\n"
     ]
    }
   ],
   "source": [
    "df_temp['pos'] = df_temp['pos'].fillna(0)\n",
    "print(df_temp['pos'].sample(20, random_state=42).to_list())"
   ]
  },
  {
   "cell_type": "markdown",
   "id": "192e1618",
   "metadata": {},
   "source": [
    "Now check of any discrepencies between finish_numeric and pos again."
   ]
  },
  {
   "cell_type": "code",
   "execution_count": 26,
   "id": "372b5d69",
   "metadata": {},
   "outputs": [
    {
     "name": "stdout",
     "output_type": "stream",
     "text": [
      "Number of rows where finish_numeric and pos differ: 5505\n",
      "      pos Finish  finish_numeric\n",
      "94   18.0    NaN             0.0\n",
      "324  77.0    NaN             0.0\n",
      "325   8.0    NaN             0.0\n",
      "394  81.0    NaN             0.0\n",
      "534  41.0    NaN             0.0\n",
      "601   5.0    NaN             0.0\n",
      "677  33.0    NaN             0.0\n",
      "798  10.0    NaN             0.0\n",
      "800  21.0    NaN             0.0\n",
      "927  14.0    NaN             0.0\n"
     ]
    }
   ],
   "source": [
    "df_temp['pos_differs'] = df_temp['finish_numeric'] != df_temp['pos']\n",
    "num_differences = df_temp['pos_differs'].sum()\n",
    "print(f\"Number of rows where finish_numeric and pos differ: {num_differences}\")\n",
    "print(df_temp[df_temp['pos_differs']][['pos', 'Finish', 'finish_numeric']].head(10))"
   ]
  },
  {
   "cell_type": "markdown",
   "id": "6d06f8eb",
   "metadata": {},
   "source": [
    "From manual checks during the Data Collection phase, we believe pos to be the more reliable field. However, in some cases finish_numeric will have a result in the top ten that is accurate and pos will be inaccurate."
   ]
  },
  {
   "cell_type": "code",
   "execution_count": 27,
   "id": "2750cdef",
   "metadata": {},
   "outputs": [
    {
     "name": "stdout",
     "output_type": "stream",
     "text": [
      "        pos Finish  finish_numeric\n",
      "2771    0.0     T8             8.0\n",
      "3629    0.0      3             3.0\n",
      "4211    0.0     T6             6.0\n",
      "4434    0.0     T5             5.0\n",
      "8676    0.0      4             4.0\n",
      "8677    0.0     T2             2.0\n",
      "8685    0.0     T8             8.0\n",
      "8729    0.0     T5             5.0\n",
      "8737    0.0     T8             8.0\n",
      "8761    0.0      1             1.0\n",
      "8763    0.0     T8             8.0\n",
      "8765    0.0     T2             2.0\n",
      "8769    0.0     T8             8.0\n",
      "8772    0.0     T5             5.0\n",
      "8792    0.0     T8             8.0\n",
      "8811    0.0     T5             5.0\n",
      "8836    0.0     T6             6.0\n",
      "8838    0.0     T6             6.0\n",
      "8852    0.0     T6             6.0\n",
      "8862    0.0     T4             4.0\n",
      "8871    0.0      3             3.0\n",
      "8877    0.0     T4             4.0\n",
      "8887    0.0     T6             6.0\n",
      "8907    0.0      2             2.0\n",
      "8923    0.0      1             1.0\n",
      "8934    0.0     T6             6.0\n",
      "8940    0.0     T6             6.0\n",
      "18524   0.0     T7             7.0\n",
      "24437   0.0      2             2.0\n",
      "31451   2.0     T4             4.0\n",
      "31495  26.0     T4             4.0\n",
      "31506   2.0     T7             7.0\n",
      "31512   0.0    T10            10.0\n",
      "31513  54.0    T10            10.0\n",
      "31547  10.0     T7             7.0\n",
      "35527  14.0      3             3.0\n",
      "35544   2.0     T9             9.0\n",
      "35549  30.0     T6             6.0\n",
      "35608   8.0     T6             6.0\n",
      "35626   0.0     T4             4.0\n",
      "36409   0.0     T4             4.0\n",
      "\n",
      "Number of mismatches: 41\n"
     ]
    }
   ],
   "source": [
    "top_ten_mismatches = df_temp[\n",
    "    (df_temp['finish_numeric'].between(1, 10, inclusive='both')) &\n",
    "    (df_temp['finish_numeric'] != df_temp['pos'])\n",
    "]\n",
    "print(top_ten_mismatches[['pos', 'Finish', 'finish_numeric']])\n",
    "print(f\"\\nNumber of mismatches: {len(top_ten_mismatches)}\")\n"
   ]
  },
  {
   "cell_type": "markdown",
   "id": "e42258d2",
   "metadata": {},
   "source": [
    "We now need to create a new feature that uses the pos value apart from these 41 cases called true_pos."
   ]
  },
  {
   "cell_type": "code",
   "execution_count": 28,
   "id": "25df09e6",
   "metadata": {},
   "outputs": [],
   "source": [
    "df_temp['true_pos'] = np.where(\n",
    "    (df_temp['finish_numeric'].between(1, 10, inclusive='both')) &\n",
    "    (df_temp['finish_numeric'] != df_temp['pos']),\n",
    "    df_temp['finish_numeric'],\n",
    "    df_temp['pos']\n",
    ")"
   ]
  },
  {
   "cell_type": "markdown",
   "id": "a28dbcc0",
   "metadata": {},
   "source": [
    "Print one occurence where there was an issue to check for accuracy."
   ]
  },
  {
   "cell_type": "code",
   "execution_count": 29,
   "id": "997582c9",
   "metadata": {},
   "outputs": [
    {
     "name": "stdout",
     "output_type": "stream",
     "text": [
      "pos         0.0\n",
      "true_pos    8.0\n",
      "Name: 2771, dtype: object\n"
     ]
    }
   ],
   "source": [
    "print(df_temp.loc[2771, ['pos', 'true_pos']])"
   ]
  },
  {
   "cell_type": "markdown",
   "id": "ab6b0f3a",
   "metadata": {},
   "source": [
    "Finally, use the true_pos value to create a new feature called top_ten, whereby 0 = not in the top ten and 1 = in the top ten."
   ]
  },
  {
   "cell_type": "code",
   "execution_count": 30,
   "id": "1d9c6bbc",
   "metadata": {},
   "outputs": [
    {
     "name": "stdout",
     "output_type": "stream",
     "text": [
      "top_ten\n",
      "0    33116\n",
      "1     3748\n",
      "Name: count, dtype: int64\n"
     ]
    }
   ],
   "source": [
    "df_temp['top_ten'] = np.where(df_temp['true_pos'].between(1, 10, inclusive='both'), 1, 0)\n",
    "print(df_temp['top_ten'].value_counts())"
   ]
  },
  {
   "cell_type": "markdown",
   "id": "b4d9db58",
   "metadata": {},
   "source": [
    "## Analyse averag strokes gained data for top_ten vs not top_ten finishers."
   ]
  },
  {
   "cell_type": "code",
   "execution_count": 32,
   "id": "b406103b",
   "metadata": {},
   "outputs": [
    {
     "data": {
      "image/png": "[encoded data removed]",
      "text/plain": [
       "<Figure size 1000x600 with 1 Axes>"
      ]
     },
     "metadata": {},
     "output_type": "display_data"
    }
   ],
   "source": [
    "import matplotlib.pyplot as plt\n",
    "\n",
    "sg_features = ['sg_ott', 'sg_app', 'sg_arg', 'sg_putt', 'sg_t2g', 'sg_total']\n",
    "\n",
    "avg_sg = df_temp.groupby('top_ten')[sg_features].mean()\n",
    "\n",
    "avg_sg.T.plot(kind='bar', figsize=(10,6))\n",
    "plt.title('Average Strokes Gained by Category: Top-Ten vs Non-Top-Ten')\n",
    "plt.xlabel('Strokes Gained Category')\n",
    "plt.ylabel('Average Strokes Gained')\n",
    "plt.xticks(rotation=0)\n",
    "plt.legend(title='Top Ten', labels=['Not Top Ten', 'Top Ten'])\n",
    "plt.show()\n",
    "\n"
   ]
  }
 ],
 "metadata": {
  "kernelspec": {
   "display_name": "venv",
   "language": "python",
   "name": "python3"
  },
  "language_info": {
   "codemirror_mode": {
    "name": "ipython",
    "version": 3
   },
   "file_extension": ".py",
   "mimetype": "text/x-python",
   "name": "python",
   "nbconvert_exporter": "python",
   "pygments_lexer": "ipython3",
   "version": "3.13.2"
  }
 },
 "nbformat": 4,
 "nbformat_minor": 5
}
